{
 "cells": [
  {
   "cell_type": "code",
   "execution_count": 8,
   "metadata": {},
   "outputs": [],
   "source": [
    "# libraries\n",
    "import pandas as pd\n",
    "import numpy as np\n",
    "from plotnine import *\n",
    "import itertools\n",
    "from scipy.stats import linregress\n",
    "\n",
    "# data\n",
    "file_path = \"C:/Users/HelenSepman/OneDrive - Kruvelab/Documents/GitHub/ML_calibration_graph_linearity/0_data/data_ready_addfeatures_231128.csv\"\n",
    "# file_path = \"C:/Users/yvkr1259/Documents/data_ready_addfeatures_231122.csv\"\n",
    "\n",
    "df_calibrations = pd.read_csv(file_path)\n",
    "df_selected = df_calibrations[df_calibrations['lab']=='L1']\n",
    "df_selected = df_selected[df_selected['compound']=='Tetraethylammonium']"
   ]
  },
  {
   "cell_type": "markdown",
   "metadata": {},
   "source": [
    "### linear range iteratively"
   ]
  },
  {
   "cell_type": "code",
   "execution_count": null,
   "metadata": {},
   "outputs": [],
   "source": [
    "def calculate_regression(points):\n",
    "    x, y = zip(*points)\n",
    "    slope, intercept, _, _, _ = linregress(x, y)\n",
    "    y_pred = [slope * xi + intercept for xi in x]\n",
    "    residuals = np.array(y) - np.array(y_pred)\n",
    "    relative_residuals = np.abs(residuals) / np.abs(np.array(y))\n",
    "    return relative_residuals.sum()\n",
    "\n",
    "best_subset = None\n",
    "best_residuals = float('inf')\n",
    "data = df_selected[['c_real_M', 'peak_area']]\n",
    "\n",
    "data.rename(columns={'c_real_M':'x'}, inplace=True)\n",
    "data.rename(columns={'peak_area':'y'}, inplace=True)\n",
    "\n",
    "# Iterate through all combinations of 3 to 6 points\n",
    "for subset_size in range(3, 6):\n",
    "    for subset in itertools.combinations(data.iterrows(), subset_size):\n",
    "        subset_points = [(row[1]['x'], row[1]['y']) for _, row in subset]\n",
    "        residuals_sum = calculate_regression(subset_points)\n",
    "        if residuals_sum < best_residuals:\n",
    "            best_residuals = residuals_sum\n",
    "            best_subset = subset_points\n",
    "\n",
    "# Output the best subset\n",
    "print(\"Best Subset:\", best_subset)\n",
    "print(\"Best Relative Residuals:\", best_residuals)\n"
   ]
  },
  {
   "cell_type": "code",
   "execution_count": 21,
   "metadata": {},
   "outputs": [
    {
     "name": "stdout",
     "output_type": "stream",
     "text": [
      "Best Subset: [(1.13e-06, 1339187188.0), (3.59e-07, 226837232.7), (2.41e-07, 74981332.67)]\n",
      "Best Relative Residuals: 0.14483422856421815\n"
     ]
    }
   ],
   "source": [
    "for subset_size in range(3, 6):\n",
    "    for subset in itertools.combinations(data.iterrows(), subset_size):\n",
    "        subset_points = [(row['x'], row['y']) for _, row in subset]\n",
    "        residuals_sum = calculate_regression(subset_points)\n",
    "        if residuals_sum < best_residuals:\n",
    "            best_residuals = residuals_sum\n",
    "            best_subset = subset_points\n",
    "\n",
    "# Output the best subset\n",
    "print(\"Best Subset:\", best_subset)\n",
    "print(\"Best Relative Residuals:\", best_residuals)\n",
    "\n"
   ]
  },
  {
   "cell_type": "code",
   "execution_count": 24,
   "metadata": {},
   "outputs": [],
   "source": [
    "df_best = pd.DataFrame(best_subset)\n",
    "slope = x\n",
    "intercept = y\n",
    "df_best['subset'] = i"
   ]
  }
 ],
 "metadata": {
  "kernelspec": {
   "display_name": "Python 3",
   "language": "python",
   "name": "python3"
  },
  "language_info": {
   "codemirror_mode": {
    "name": "ipython",
    "version": 3
   },
   "file_extension": ".py",
   "mimetype": "text/x-python",
   "name": "python",
   "nbconvert_exporter": "python",
   "pygments_lexer": "ipython3",
   "version": "3.11.4"
  }
 },
 "nbformat": 4,
 "nbformat_minor": 2
}
