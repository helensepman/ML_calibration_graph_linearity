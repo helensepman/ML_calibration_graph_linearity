{
 "cells": [
  {
   "cell_type": "code",
   "execution_count": null,
   "metadata": {},
   "outputs": [],
   "source": []
   "source": [
    "import pandas as pd\n",
    "import numpy as np\n",
    "from sklearn.preprocessing import StandardScaler, RobustScaler\n",
    "\n",
    "file_path = \"C:/Users/loma5202/OneDrive - Kruvelab/ready/data_ready_231029.csv\"\n",
    "cal_data = pd.read_csv(file_path)\n",
    "\n",
    "# Removing unneccessary columns\n",
    "cal_data = cal_data[['lab', 'compound', 'sample', 'peak_area', 'note', 'c_real_M']]\n",
    "\n",
    "# Normalisation using Z-Score\n",
    "z_scaler = StandardScaler()\n",
    "cal_data['peak_area_Z_norm'] = z_scaler.fit_transform(cal_data[['peak_area']]).flatten()\n",
    "cal_data['c_real_Z_norm'] = z_scaler.fit_transform(cal_data[['c_real_M']]).flatten()\n",
    "\n",
    "# Normalisation using Robust Scaler\n",
    "robust_scaler = RobustScaler()\n",
    "cal_data['peak_area_robust_norm'] = robust_scaler.fit_transform(cal_data[['peak_area']]).flatten()\n",
    "cal_data['c_real_robust_norm'] = robust_scaler.fit_transform(cal_data[['c_real_M']]).flatten()\n",
    "\n",
    "cal_data.head()  # Display the first few rows of the DataFrame to check the results"
   ]
  },
  {
   "cell_type": "code",
   "execution_count": null,
   "metadata": {},
   "outputs": [],
   "source": [
  }
 ],
 "metadata": {
  "language_info": {
   "name": "python"
  }
 },
 "nbformat": 4,
 "nbformat_minor": 2
}
